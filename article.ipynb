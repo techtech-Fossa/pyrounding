{
 "cells": [
  {
   "attachments": {},
   "cell_type": "markdown",
   "metadata": {},
   "source": [
    "# Pythonで使える四捨五入関数を作ってみた"
   ]
  },
  {
   "attachments": {},
   "cell_type": "markdown",
   "metadata": {},
   "source": [
    "## はじめに\n",
    "Pythonでデータを扱う場合、整数や小数に対して小学校でならうようないわゆる四捨五入をいい感じでしてくれる関数がなかったので自作してみました。  \n",
    "整数と小数それぞれの四捨五入方法に関しては、[こちら](https://note.nkmk.me/python-round-decimal-quantize/)のページを参考にさせて頂きました。  \n",
    "完成形のコードだけ見たいよという方は私の[Github](https://github.com/techtech-Fossa/pyrounding)からどうぞ。  "
   ]
  },
  {
   "attachments": {},
   "cell_type": "markdown",
   "metadata": {},
   "source": [
    "## 環境  \n",
    "OS : AlmaLinux release 8.7  \n",
    "Python 3.8.0  \n",
    "numpy 1.23.4  \n",
    "  \n",
    "とりあえず必要なライブラリ・モジュールをimportしておきます。"
   ]
  },
  {
   "cell_type": "code",
   "execution_count": 1,
   "metadata": {},
   "outputs": [],
   "source": [
    "import numpy as np\n",
    "from decimal import Decimal, ROUND_HALF_UP"
   ]
  },
  {
   "attachments": {},
   "cell_type": "markdown",
   "metadata": {},
   "source": [
    "### 方向性\n",
    "decimalモジュールのDecimal()オブジェクトに対して、quantizeメソッドで引数rounding=ROUND_HALF_UPを指定することで一般的な四捨五入を行っていきます。  \n"
   ]
  },
  {
   "attachments": {},
   "cell_type": "markdown",
   "metadata": {},
   "source": [
    "## 小数  \n",
    "まずは簡単に挙動を確認していきます。"
   ]
  },
  {
   "cell_type": "code",
   "execution_count": 2,
   "metadata": {},
   "outputs": [
    {
     "name": "stdout",
     "output_type": "stream",
     "text": [
      "123.456\n",
      "'0'\n",
      "123\n",
      "'0.1'\n",
      "123.5\n",
      "'0.01'\n",
      "123.46\n"
     ]
    }
   ],
   "source": [
    "f = 123.456\n",
    "print(f)\n",
    "print(\"'0'\")\n",
    "print(Decimal(str(f)).quantize(Decimal('0'), rounding=ROUND_HALF_UP))\n",
    "print(\"'0.1'\")\n",
    "print(Decimal(str(f)).quantize(Decimal('0.1'), rounding=ROUND_HALF_UP))\n",
    "print(\"'0.01'\")\n",
    "print(Decimal(str(f)).quantize(Decimal('0.01'), rounding=ROUND_HALF_UP))"
   ]
  },
  {
   "attachments": {},
   "cell_type": "markdown",
   "metadata": {},
   "source": [
    "小数点第n位(n>1)を四捨五入したい場合は、quantizeメソッドの第一引数にDecimal($10^{n-1}$のstr型)を指定すればよいことがわかりました。  \n",
    "小数点第一位を四捨五入したい場合はDecimal('0')のようですね。  \n",
    "以上を踏まえて作成した小数に対する四捨五入用の関数がこちらです。  "
   ]
  },
  {
   "cell_type": "code",
   "execution_count": 3,
   "metadata": {},
   "outputs": [],
   "source": [
    "def one_decimal(value,digit,return_type=str):\n",
    "    \"\"\"\n",
    "    value : 四捨五入したいスカラー.\n",
    "    digit : 四捨五入して最終的に小数点第何位までにしたいか\n",
    "    return_type : 返り値の型 (ex. float, int)\n",
    "    \"\"\"        \n",
    "    if digit==0:\n",
    "        decimal_value = '0'\n",
    "    else:\n",
    "        decimal_value = '1'\n",
    "        for i in range(digit-1):\n",
    "            decimal_value = '0'+decimal_value\n",
    "        decimal_value = '0.'+decimal_value\n",
    "    decimal_object = Decimal(str(value)).quantize(Decimal(decimal_value),rounding=ROUND_HALF_UP)\n",
    "    return_value = np.array([decimal_object],dtype=return_type)[0]\n",
    "    return return_value"
   ]
  },
  {
   "attachments": {},
   "cell_type": "markdown",
   "metadata": {},
   "source": [
    "### 説明\n",
    "#### 引数\n",
    "第二引数digitで、第一引数valueを四捨五入して最終的に小数点第何位までにしたいかを指定します。つまり、小数点以下第digit+1位を四捨五入します。    \n",
    "第三引数return_valueでは、返り値の型を指定します。  \n",
    "#### 中身  \n"
   ]
  },
  {
   "cell_type": "markdown",
   "metadata": {},
   "source": [
    "\n",
    "まずdigitが0か1以上かで、quantizeメソッドで指定する文字列を分けて作ります。  \n",
    "digitが1上の場合は、digit-1個の'0'を'1'の左側に書いたのち、'0.'をつけます。  \n",
    "例えばdigit=3であれば、'1'の左側に'00'を付けたのちに左側に'0.'を付けます.  \n",
    "これで小数点以下第4(digit+1)位を四捨五入して小数点第3(digit)位までにできます。  "
   ]
  },
  {
   "attachments": {},
   "cell_type": "markdown",
   "metadata": {},
   "source": [
    "```python\n",
    "if digit==0:\n",
    "    decimal_value = '0'\n",
    "else:\n",
    "    decimal_value = '1'\n",
    "    for i in range(digit-1):\n",
    "        decimal_value = '0'+decimal_value\n",
    "    decimal_value = '0.'+decimal_value\n",
    "```"
   ]
  },
  {
   "attachments": {},
   "cell_type": "markdown",
   "metadata": {},
   "source": [
    "先ほど挙動確認した方法で、第一引数valueの小数点第digit+1位を四捨五入します。"
   ]
  },
  {
   "attachments": {},
   "cell_type": "markdown",
   "metadata": {},
   "source": [
    "```python\n",
    "decimal_object = Decimal(str(value)).quantize(Decimal(decimal_value),rounding=ROUND_HALF_UP)\n",
    "```"
   ]
  },
  {
   "attachments": {},
   "cell_type": "markdown",
   "metadata": {},
   "source": [
    "返り値の型を、numpy.ndarrayを経由して変換しています。"
   ]
  },
  {
   "attachments": {},
   "cell_type": "markdown",
   "metadata": {},
   "source": [
    "```python\n",
    "return_value = np.array([decimal_object],dtype=return_type)[0]\n",
    "```"
   ]
  },
  {
   "attachments": {},
   "cell_type": "markdown",
   "metadata": {},
   "source": [
    "### 関数の挙動確認"
   ]
  },
  {
   "cell_type": "code",
   "execution_count": 4,
   "metadata": {},
   "outputs": [
    {
     "name": "stdout",
     "output_type": "stream",
     "text": [
      "123.456, 0, <class 'str'> : 123 <class 'numpy.str_'>\n",
      "123.456, 0, <class 'float'> : 123.0 <class 'numpy.float64'>\n",
      "123.456, 1, <class 'str'> : 123.5 <class 'numpy.str_'>\n",
      "123.456, 1, <class 'float'> : 123.5 <class 'numpy.float64'>\n",
      "123.456, 2, <class 'str'> : 123.46 <class 'numpy.str_'>\n",
      "123.456, 2, <class 'float'> : 123.46 <class 'numpy.float64'>\n"
     ]
    }
   ],
   "source": [
    "f = 123.456\n",
    "args = [[f,0,str],\n",
    "        [f,0,float],\n",
    "        [f,1,str],\n",
    "        [f,1,float],\n",
    "        [f,2,str],\n",
    "        [f,2,float]]\n",
    "\n",
    "for arg in args:\n",
    "    value,digit,return_type = arg\n",
    "    return_value = one_decimal(value,digit,return_type)\n",
    "    print(f'{value}, {digit}, {return_type} : {return_value} {type(return_value)}')"
   ]
  },
  {
   "attachments": {},
   "cell_type": "markdown",
   "metadata": {},
   "source": [
    "## 整数 \n",
    "こちらもまずは簡単に挙動を確認していきます。"
   ]
  },
  {
   "cell_type": "code",
   "execution_count": 5,
   "metadata": {},
   "outputs": [
    {
     "name": "stdout",
     "output_type": "stream",
     "text": [
      "99518\n",
      "型変換なし '10'\n",
      "99518\n",
      "型変換なし '1E1'\n",
      "9.952E+4\n",
      "int '1E1'\n",
      "99520\n",
      "int '1E2'\n",
      "99500\n",
      "int '1E3'\n",
      "100000\n"
     ]
    }
   ],
   "source": [
    "i = 99518\n",
    "print(i)\n",
    "print(\"型変換なし '10'\")\n",
    "print(Decimal(i).quantize(Decimal('10'), rounding=ROUND_HALF_UP))\n",
    "print(\"型変換なし '1E1'\")\n",
    "print(Decimal(i).quantize(Decimal('1E1'), rounding=ROUND_HALF_UP))\n",
    "print(\"int '1E1'\")\n",
    "print(int(Decimal(i).quantize(Decimal('1E1'), rounding=ROUND_HALF_UP)))\n",
    "print(\"int '1E2'\")\n",
    "print(int(Decimal(i).quantize(Decimal('1E2'), rounding=ROUND_HALF_UP)))\n",
    "print(\"int '1E3'\")\n",
    "print(int(Decimal(i).quantize(Decimal('1E3'), rounding=ROUND_HALF_UP)))"
   ]
  },
  {
   "attachments": {},
   "cell_type": "markdown",
   "metadata": {},
   "source": [
    "まずquantizeメソッドの第一引数のDecimalの中身は、Eによる指数表記にしなければ得たい結果が得られないことが分かります。  \n",
    "また、型変換なしの場合、Eによる指数表記のオブジェクトが返ってきてしまうので、int型に変換する必要があります。  "
   ]
  },
  {
   "cell_type": "code",
   "execution_count": 6,
   "metadata": {},
   "outputs": [],
   "source": [
    "def one_integer(value,digit,return_type=str):\n",
    "    \"\"\"\n",
    "    value : 四捨五入したいスカラー.\n",
    "    digit : 四捨五入する位の数 (1の位->1, 10の位->2, ...)\n",
    "    return_type : 返り値の型 (ex. str, float, int)\n",
    "    \"\"\"        \n",
    "    decimal_value = f'1E{digit}'\n",
    "    decimal_object = int(Decimal(str(value)).quantize(Decimal(decimal_value),rounding=ROUND_HALF_UP))\n",
    "    return_value = np.array([int(decimal_object)],dtype=return_type)[0]\n",
    "    return return_value\n"
   ]
  },
  {
   "attachments": {},
   "cell_type": "markdown",
   "metadata": {},
   "source": [
    "### 説明\n",
    "#### 引数\n",
    "第二引数digitで、第一引数valueの何桁目を四捨五入したいかを指定します。一の位であれば1、十の位であれば2となります。      \n",
    "第三引数return_valueでは、返り値の型を指定します。  \n",
    "#### 中身  \n"
   ]
  },
  {
   "attachments": {},
   "cell_type": "markdown",
   "metadata": {},
   "source": [
    "小数の時よりシンプルであり、'1E'の後ろにdigitをつけた文字列をつくります。"
   ]
  },
  {
   "attachments": {},
   "cell_type": "markdown",
   "metadata": {},
   "source": [
    "```python\n",
    "if decimal_value = f'1E{digit}'\n",
    "```"
   ]
  },
  {
   "attachments": {},
   "cell_type": "markdown",
   "metadata": {},
   "source": [
    "先ほど挙動確認した方法で、第一引数valueのdigit桁目を四捨五入します。"
   ]
  },
  {
   "attachments": {},
   "cell_type": "markdown",
   "metadata": {},
   "source": [
    "```python\n",
    "decimal_object = int(Decimal(str(value)).quantize(Decimal(decimal_value),rounding=ROUND_HALF_UP))\n",
    "```"
   ]
  },
  {
   "attachments": {},
   "cell_type": "markdown",
   "metadata": {},
   "source": [
    "返り値の型を、numpy.ndarrayを経由して変換しています。"
   ]
  },
  {
   "attachments": {},
   "cell_type": "markdown",
   "metadata": {},
   "source": [
    "```python\n",
    "return_value = np.array([decimal_object],dtype=return_type)[0]\n",
    "```"
   ]
  },
  {
   "attachments": {},
   "cell_type": "markdown",
   "metadata": {},
   "source": [
    "### 関数の挙動確認"
   ]
  },
  {
   "cell_type": "code",
   "execution_count": 7,
   "metadata": {},
   "outputs": [
    {
     "name": "stdout",
     "output_type": "stream",
     "text": [
      "99518, 1, <class 'str'> : 99520 <class 'numpy.str_'>\n",
      "99518, 1, <class 'float'> : 99520.0 <class 'numpy.float64'>\n",
      "99518, 1, <class 'int'> : 99520 <class 'numpy.int64'>\n",
      "99518, 2, <class 'str'> : 99500 <class 'numpy.str_'>\n",
      "99518, 2, <class 'float'> : 99500.0 <class 'numpy.float64'>\n",
      "99518, 2, <class 'int'> : 99500 <class 'numpy.int64'>\n"
     ]
    }
   ],
   "source": [
    "i = 99518\n",
    "args = [[i,1,str],\n",
    "        [i,1,float],\n",
    "        [i,1,int],\n",
    "        [i,2,str],\n",
    "        [i,2,float],\n",
    "        [i,2,int]\n",
    "        ]\n",
    "\n",
    "for arg in args:\n",
    "    value,digit,return_type = arg\n",
    "    return_value = one_integer(value,digit,return_type)\n",
    "    print(f'{value}, {digit}, {return_type} : {return_value} {type(return_value)}')"
   ]
  },
  {
   "attachments": {},
   "cell_type": "markdown",
   "metadata": {},
   "source": [
    "## 配列にも適用\n",
    "ひとつひとつの値を四捨五入するだけならdecimalモジュールで十分なので、配列にも適用できるようにします。  \n",
    "今回は、numpyのvectorizeメソッドを使用してone_decimalとone_integerをユニバーサル関数化します。    \n",
    "関数の完成形は次の通りです。"
   ]
  },
  {
   "cell_type": "code",
   "execution_count": 8,
   "metadata": {},
   "outputs": [],
   "source": [
    "def rounding(value,digit,return_type=str,decimal_bool=True):\n",
    "    \"\"\"\n",
    "    value : 四捨五入したいスカラーまたは配列.  配列はnumpy.ndarrayのほか、listでも可.\n",
    "    digit : decimal_bool=Trueの場合、小数点以下第digit+1位を四捨五入.\n",
    "            decimal_bool=Falseの場合、digit桁目を四捨五入.\n",
    "    return_type : 返り値の値もしくは配列の型 (ex. float, int)\n",
    "    decimal_bool : 小数点以下に対する四捨五入か否か。Falseの場合は整数桁に関して四捨五入が行われる。\n",
    "    \"\"\"        \n",
    "\n",
    "    if decimal_bool:\n",
    "        vectorized_func = np.vectorize(one_decimal)\n",
    "    else:\n",
    "        vectorized_func = np.vectorize(one_integer)\n",
    "\n",
    "    return_value = vectorized_func(value,digit,return_type)\n",
    "    if return_value.ndim==0:\n",
    "        return_value = np.array([return_value],dtype=return_type)[0]\n",
    "    return return_value"
   ]
  },
  {
   "attachments": {},
   "cell_type": "markdown",
   "metadata": {},
   "source": [
    "### 説明\n",
    "#### 引数\n",
    "第四引数のdecimal_boolは、one_decimalを使うかone_integerを使うかを指定するbooleanです。デフォルトではTrueとなっています。  \n",
    "value,digit,return_valueの意味はすべてone_decimalとone_integerのものと同一ですが、digitについてはdecimal_boolによって意味するところが変わります。  \n",
    "#### 中身  \n"
   ]
  },
  {
   "attachments": {},
   "cell_type": "markdown",
   "metadata": {},
   "source": [
    "decimal_boolによって、one_decimalとone_integerのどちらをnp.vectorizeでユニバーサル関数化するかを決めます。"
   ]
  },
  {
   "attachments": {},
   "cell_type": "markdown",
   "metadata": {},
   "source": [
    "```python\n",
    "if decimal_bool:\n",
    "    vectorized_func = np.vectorize(one_decimal)\n",
    "else:\n",
    "    vectorized_func = np.vectorize(one_integer)\n",
    "```"
   ]
  },
  {
   "attachments": {},
   "cell_type": "markdown",
   "metadata": {},
   "source": [
    "返り値を取得する際、引数valueがスカラーの場合には0-dimensional arrayが返ってきてしまうので、1-dimensional arrayにしてから取り出す。"
   ]
  },
  {
   "attachments": {},
   "cell_type": "markdown",
   "metadata": {},
   "source": [
    "```python\n",
    "return_value = vectorized_func(value,digit,return_type)\n",
    "if return_value.ndim==0:\n",
    "    return_value = np.array([return_value],dtype=return_type)[0]\n",
    "```"
   ]
  },
  {
   "attachments": {},
   "cell_type": "markdown",
   "metadata": {},
   "source": [
    "### 関数の挙動確認\n",
    "#### 配列"
   ]
  },
  {
   "cell_type": "code",
   "execution_count": 9,
   "metadata": {},
   "outputs": [
    {
     "name": "stdout",
     "output_type": "stream",
     "text": [
      "[[0.         0.14285714 0.28571429 0.42857143]\n",
      " [0.57142857 0.71428571 0.85714286 1.        ]]\n"
     ]
    }
   ],
   "source": [
    "a = np.linspace(0,1,8).reshape(2,4)\n",
    "print(a)"
   ]
  },
  {
   "cell_type": "code",
   "execution_count": 10,
   "metadata": {},
   "outputs": [
    {
     "name": "stdout",
     "output_type": "stream",
     "text": [
      "0, <class 'str'> :\n",
      "[['0' '0' '0' '0']\n",
      " ['1' '1' '1' '1']]\n",
      "<U1\n",
      "0, <class 'float'> :\n",
      "[[0. 0. 0. 0.]\n",
      " [1. 1. 1. 1.]]\n",
      "float64\n",
      "1, <class 'str'> :\n",
      "[['0.0' '0.1' '0.3' '0.4']\n",
      " ['0.6' '0.7' '0.9' '1.0']]\n",
      "<U3\n",
      "1, <class 'float'> :\n",
      "[[0.  0.1 0.3 0.4]\n",
      " [0.6 0.7 0.9 1. ]]\n",
      "float64\n"
     ]
    }
   ],
   "source": [
    "decimal_bool = True\n",
    "args = [[a,0,str],\n",
    "        [a,0,float],\n",
    "        [a,1,str],\n",
    "        [a,1,float]]\n",
    "\n",
    "for arg in args:\n",
    "    value,digit,return_type = arg\n",
    "    return_value = rounding(value,digit,return_type,decimal_bool)\n",
    "    print(f'{digit}, {return_type} :')\n",
    "    print(return_value)\n",
    "    print(return_value.dtype)\n"
   ]
  },
  {
   "cell_type": "code",
   "execution_count": 11,
   "metadata": {},
   "outputs": [
    {
     "name": "stdout",
     "output_type": "stream",
     "text": [
      "[[145 146 147 148 149]\n",
      " [150 151 152 153 154]]\n"
     ]
    }
   ],
   "source": [
    "b = np.arange(145,155,1).reshape(2,5)\n",
    "print(b)"
   ]
  },
  {
   "cell_type": "code",
   "execution_count": 12,
   "metadata": {},
   "outputs": [
    {
     "name": "stdout",
     "output_type": "stream",
     "text": [
      "1, <class 'str'> :\n",
      "[['150' '150' '150' '150' '150']\n",
      " ['150' '150' '150' '150' '150']]\n",
      "<U3\n",
      "1, <class 'float'> :\n",
      "[[150. 150. 150. 150. 150.]\n",
      " [150. 150. 150. 150. 150.]]\n",
      "float64\n",
      "1, <class 'int'> :\n",
      "[[150 150 150 150 150]\n",
      " [150 150 150 150 150]]\n",
      "int64\n",
      "2, <class 'str'> :\n",
      "[['100' '100' '100' '100' '100']\n",
      " ['200' '200' '200' '200' '200']]\n",
      "<U3\n",
      "2, <class 'float'> :\n",
      "[[100. 100. 100. 100. 100.]\n",
      " [200. 200. 200. 200. 200.]]\n",
      "float64\n",
      "2, <class 'int'> :\n",
      "[[100 100 100 100 100]\n",
      " [200 200 200 200 200]]\n",
      "int64\n"
     ]
    }
   ],
   "source": [
    "decimal_bool = False\n",
    "args = [[b,1,str],\n",
    "        [b,1,float],\n",
    "        [b,1,int],\n",
    "        [b,2,str],\n",
    "        [b,2,float],\n",
    "        [b,2,int]\n",
    "        ]\n",
    "\n",
    "for arg in args:\n",
    "    value,digit,return_type = arg\n",
    "    return_value = rounding(value,digit,return_type,decimal_bool)\n",
    "    print(f'{digit}, {return_type} :')\n",
    "    print(return_value)\n",
    "    print(return_value.dtype)"
   ]
  },
  {
   "cell_type": "markdown",
   "metadata": {},
   "source": [
    "#### スカラー"
   ]
  },
  {
   "cell_type": "code",
   "execution_count": 13,
   "metadata": {},
   "outputs": [
    {
     "name": "stdout",
     "output_type": "stream",
     "text": [
      "123.456, 0, <class 'str'> : 123 <class 'numpy.str_'>\n",
      "123.456, 0, <class 'float'> : 123.0 <class 'numpy.float64'>\n",
      "123.456, 1, <class 'str'> : 123.5 <class 'numpy.str_'>\n",
      "123.456, 1, <class 'float'> : 123.5 <class 'numpy.float64'>\n",
      "123.456, 2, <class 'str'> : 123.46 <class 'numpy.str_'>\n",
      "123.456, 2, <class 'float'> : 123.46 <class 'numpy.float64'>\n",
      "99518, 1, <class 'str'> : 99520 <class 'numpy.str_'>\n",
      "99518, 1, <class 'float'> : 99520.0 <class 'numpy.float64'>\n",
      "99518, 1, <class 'int'> : 99520 <class 'numpy.int64'>\n",
      "99518, 2, <class 'str'> : 99500 <class 'numpy.str_'>\n",
      "99518, 2, <class 'float'> : 99500.0 <class 'numpy.float64'>\n",
      "99518, 2, <class 'int'> : 99500 <class 'numpy.int64'>\n"
     ]
    }
   ],
   "source": [
    "f = 123.456\n",
    "decimal_bool = True\n",
    "args = [[f,0,str],\n",
    "        [f,0,float],\n",
    "        [f,1,str],\n",
    "        [f,1,float],\n",
    "        [f,2,str],\n",
    "        [f,2,float]]\n",
    "\n",
    "for arg in args:\n",
    "    value,digit,return_type = arg\n",
    "    return_value = rounding(value,digit,return_type,decimal_bool)\n",
    "    print(f'{value}, {digit}, {return_type} : {return_value} {type(return_value)}')\n",
    "    \n",
    "i = 99518\n",
    "decimal_bool = False\n",
    "args = [[i,1,str],\n",
    "        [i,1,float],\n",
    "        [i,1,int],\n",
    "        [i,2,str],\n",
    "        [i,2,float],\n",
    "        [i,2,int]\n",
    "        ]\n",
    "\n",
    "for arg in args:\n",
    "    value,digit,return_type = arg\n",
    "    return_value = rounding(value,digit,return_type,decimal_bool)\n",
    "    print(f'{value}, {digit}, {return_type} : {return_value} {type(return_value)}')"
   ]
  },
  {
   "attachments": {},
   "cell_type": "markdown",
   "metadata": {},
   "source": [
    "## まとめ\n",
    "これでをsite-packagesに入れておけばいつでも四捨五入が出来そうです。  \n",
    "今回が初投稿だったためだいぶ冗長な説明になっていました...  \n",
    "ここまでお付き合いいただきありがとうございました。  "
   ]
  },
  {
   "attachments": {},
   "cell_type": "markdown",
   "metadata": {},
   "source": [
    "## 参考\n",
    "- [Pythonで小数・整数を四捨五入するroundとDecimal.quantize](https://note.nkmk.me/python-round-decimal-quantize/)\n",
    "- [【NumPy入門】np.vectorizeでPython関数を簡単にユニバーサル関数化!](https://www.sejuku.net/blog/73778)\n"
   ]
  }
 ],
 "metadata": {
  "kernelspec": {
   "display_name": "ikeda4",
   "language": "python",
   "name": "python3"
  },
  "language_info": {
   "codemirror_mode": {
    "name": "ipython",
    "version": 3
   },
   "file_extension": ".py",
   "mimetype": "text/x-python",
   "name": "python",
   "nbconvert_exporter": "python",
   "pygments_lexer": "ipython3",
   "version": "3.8.0"
  },
  "orig_nbformat": 4,
  "vscode": {
   "interpreter": {
    "hash": "1ab7acfbf30a0df3953b904a6fca78c886c0ecbbfd1893893e3ad7953fb293fc"
   }
  }
 },
 "nbformat": 4,
 "nbformat_minor": 2
}
